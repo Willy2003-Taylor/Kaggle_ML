{
 "cells": [
  {
   "cell_type": "markdown",
   "id": "b700e4c0",
   "metadata": {
    "papermill": {
     "duration": 0.005762,
     "end_time": "2024-11-02T04:23:42.388648",
     "exception": false,
     "start_time": "2024-11-02T04:23:42.382886",
     "status": "completed"
    },
    "tags": []
   },
   "source": [
    "**This notebook is an exercise in the [Introduction to Machine Learning](https://www.kaggle.com/learn/intro-to-machine-learning) course.  You can reference the tutorial at [this link](https://www.kaggle.com/dansbecker/your-first-machine-learning-model).**\n",
    "\n",
    "---\n"
   ]
  },
  {
   "cell_type": "markdown",
   "id": "360b828a",
   "metadata": {
    "papermill": {
     "duration": 0.004652,
     "end_time": "2024-11-02T04:23:42.398381",
     "exception": false,
     "start_time": "2024-11-02T04:23:42.393729",
     "status": "completed"
    },
    "tags": []
   },
   "source": [
    "## Recap\n",
    "So far, you have loaded your data and reviewed it with the following code. Run this cell to set up your coding environment where the previous step left off."
   ]
  },
  {
   "cell_type": "code",
   "execution_count": 1,
   "id": "5562be5c",
   "metadata": {
    "execution": {
     "iopub.execute_input": "2024-11-02T04:23:42.409802Z",
     "iopub.status.busy": "2024-11-02T04:23:42.409376Z",
     "iopub.status.idle": "2024-11-02T04:23:45.316589Z",
     "shell.execute_reply": "2024-11-02T04:23:45.315158Z"
    },
    "papermill": {
     "duration": 2.915811,
     "end_time": "2024-11-02T04:23:45.318986",
     "exception": false,
     "start_time": "2024-11-02T04:23:42.403175",
     "status": "completed"
    },
    "tags": []
   },
   "outputs": [
    {
     "name": "stdout",
     "output_type": "stream",
     "text": [
      "Setup Complete\n"
     ]
    }
   ],
   "source": [
    "# Code you have previously used to load data\n",
    "import pandas as pd\n",
    "\n",
    "# Path of the file to read\n",
    "iowa_file_path = '../input/home-data-for-ml-course/train.csv'\n",
    "\n",
    "home_data = pd.read_csv(iowa_file_path)\n",
    "\n",
    "# Set up code checking\n",
    "from learntools.core import binder\n",
    "binder.bind(globals())\n",
    "from learntools.machine_learning.ex3 import *\n",
    "\n",
    "print(\"Setup Complete\")"
   ]
  },
  {
   "cell_type": "markdown",
   "id": "01bfc72a",
   "metadata": {
    "papermill": {
     "duration": 0.004658,
     "end_time": "2024-11-02T04:23:45.328854",
     "exception": false,
     "start_time": "2024-11-02T04:23:45.324196",
     "status": "completed"
    },
    "tags": []
   },
   "source": [
    "# Exercises\n",
    "\n",
    "## Step 1: Specify Prediction Target\n",
    "Select the target variable, which corresponds to the sales price. Save this to a new variable called `y`. You'll need to print a list of the columns to find the name of the column you need.\n"
   ]
  },
  {
   "cell_type": "code",
   "execution_count": 2,
   "id": "ac5461ed",
   "metadata": {
    "execution": {
     "iopub.execute_input": "2024-11-02T04:23:45.340377Z",
     "iopub.status.busy": "2024-11-02T04:23:45.339836Z",
     "iopub.status.idle": "2024-11-02T04:23:45.345744Z",
     "shell.execute_reply": "2024-11-02T04:23:45.344774Z"
    },
    "papermill": {
     "duration": 0.014317,
     "end_time": "2024-11-02T04:23:45.347998",
     "exception": false,
     "start_time": "2024-11-02T04:23:45.333681",
     "status": "completed"
    },
    "tags": []
   },
   "outputs": [
    {
     "name": "stdout",
     "output_type": "stream",
     "text": [
      "Index(['Id', 'MSSubClass', 'MSZoning', 'LotFrontage', 'LotArea', 'Street',\n",
      "       'Alley', 'LotShape', 'LandContour', 'Utilities', 'LotConfig',\n",
      "       'LandSlope', 'Neighborhood', 'Condition1', 'Condition2', 'BldgType',\n",
      "       'HouseStyle', 'OverallQual', 'OverallCond', 'YearBuilt', 'YearRemodAdd',\n",
      "       'RoofStyle', 'RoofMatl', 'Exterior1st', 'Exterior2nd', 'MasVnrType',\n",
      "       'MasVnrArea', 'ExterQual', 'ExterCond', 'Foundation', 'BsmtQual',\n",
      "       'BsmtCond', 'BsmtExposure', 'BsmtFinType1', 'BsmtFinSF1',\n",
      "       'BsmtFinType2', 'BsmtFinSF2', 'BsmtUnfSF', 'TotalBsmtSF', 'Heating',\n",
      "       'HeatingQC', 'CentralAir', 'Electrical', '1stFlrSF', '2ndFlrSF',\n",
      "       'LowQualFinSF', 'GrLivArea', 'BsmtFullBath', 'BsmtHalfBath', 'FullBath',\n",
      "       'HalfBath', 'BedroomAbvGr', 'KitchenAbvGr', 'KitchenQual',\n",
      "       'TotRmsAbvGrd', 'Functional', 'Fireplaces', 'FireplaceQu', 'GarageType',\n",
      "       'GarageYrBlt', 'GarageFinish', 'GarageCars', 'GarageArea', 'GarageQual',\n",
      "       'GarageCond', 'PavedDrive', 'WoodDeckSF', 'OpenPorchSF',\n",
      "       'EnclosedPorch', '3SsnPorch', 'ScreenPorch', 'PoolArea', 'PoolQC',\n",
      "       'Fence', 'MiscFeature', 'MiscVal', 'MoSold', 'YrSold', 'SaleType',\n",
      "       'SaleCondition', 'SalePrice'],\n",
      "      dtype='object')\n"
     ]
    }
   ],
   "source": [
    "# print the list of columns in the dataset to find the name of the prediction target\n",
    "print(home_data.columns)"
   ]
  },
  {
   "cell_type": "code",
   "execution_count": 3,
   "id": "e890a91a",
   "metadata": {
    "execution": {
     "iopub.execute_input": "2024-11-02T04:23:45.360679Z",
     "iopub.status.busy": "2024-11-02T04:23:45.359791Z",
     "iopub.status.idle": "2024-11-02T04:23:45.374843Z",
     "shell.execute_reply": "2024-11-02T04:23:45.373753Z"
    },
    "papermill": {
     "duration": 0.023362,
     "end_time": "2024-11-02T04:23:45.376943",
     "exception": false,
     "start_time": "2024-11-02T04:23:45.353581",
     "status": "completed"
    },
    "tags": []
   },
   "outputs": [
    {
     "data": {
      "application/javascript": [
       "parent.postMessage({\"jupyterEvent\": \"custom.exercise_interaction\", \"data\": {\"outcomeType\": 1, \"valueTowardsCompletion\": 0.25, \"interactionType\": 1, \"questionType\": 2, \"questionId\": \"1_SetTarget\", \"learnToolsVersion\": \"0.3.4\", \"failureMessage\": \"\", \"exceptionClass\": \"\", \"trace\": \"\"}}, \"*\")"
      ],
      "text/plain": [
       "<IPython.core.display.Javascript object>"
      ]
     },
     "metadata": {},
     "output_type": "display_data"
    },
    {
     "data": {
      "text/markdown": [
       "<span style=\"color:#33cc33\">Correct</span>"
      ],
      "text/plain": [
       "Correct"
      ]
     },
     "metadata": {},
     "output_type": "display_data"
    }
   ],
   "source": [
    "y = home_data.SalePrice\n",
    "\n",
    "# Check your answer\n",
    "step_1.check()"
   ]
  },
  {
   "cell_type": "code",
   "execution_count": 4,
   "id": "76a2b681",
   "metadata": {
    "execution": {
     "iopub.execute_input": "2024-11-02T04:23:45.390475Z",
     "iopub.status.busy": "2024-11-02T04:23:45.389714Z",
     "iopub.status.idle": "2024-11-02T04:23:45.393896Z",
     "shell.execute_reply": "2024-11-02T04:23:45.392945Z"
    },
    "papermill": {
     "duration": 0.012791,
     "end_time": "2024-11-02T04:23:45.395994",
     "exception": false,
     "start_time": "2024-11-02T04:23:45.383203",
     "status": "completed"
    },
    "tags": []
   },
   "outputs": [],
   "source": [
    "# The lines below will show you a hint or the solution.\n",
    "#step_1.hint() \n",
    "#step_1.solution()"
   ]
  },
  {
   "cell_type": "markdown",
   "id": "5e35718d",
   "metadata": {
    "papermill": {
     "duration": 0.005151,
     "end_time": "2024-11-02T04:23:45.406523",
     "exception": false,
     "start_time": "2024-11-02T04:23:45.401372",
     "status": "completed"
    },
    "tags": []
   },
   "source": [
    "## Step 2: Create X\n",
    "Now you will create a DataFrame called `X` holding the predictive features.\n",
    "\n",
    "Since you want only some columns from the original data, you'll first create a list with the names of the columns you want in `X`.\n",
    "\n",
    "You'll use just the following columns in the list (you can copy and paste the whole list to save some typing, though you'll still need to add quotes):\n",
    "  * LotArea\n",
    "  * YearBuilt\n",
    "  * 1stFlrSF\n",
    "  * 2ndFlrSF\n",
    "  * FullBath\n",
    "  * BedroomAbvGr\n",
    "  * TotRmsAbvGrd\n",
    "\n",
    "After you've created that list of features, use it to create the DataFrame that you'll use to fit the model."
   ]
  },
  {
   "cell_type": "code",
   "execution_count": 5,
   "id": "c0dfb782",
   "metadata": {
    "execution": {
     "iopub.execute_input": "2024-11-02T04:23:45.420005Z",
     "iopub.status.busy": "2024-11-02T04:23:45.418879Z",
     "iopub.status.idle": "2024-11-02T04:23:45.433189Z",
     "shell.execute_reply": "2024-11-02T04:23:45.432083Z"
    },
    "papermill": {
     "duration": 0.023745,
     "end_time": "2024-11-02T04:23:45.435613",
     "exception": false,
     "start_time": "2024-11-02T04:23:45.411868",
     "status": "completed"
    },
    "tags": []
   },
   "outputs": [
    {
     "data": {
      "application/javascript": [
       "parent.postMessage({\"jupyterEvent\": \"custom.exercise_interaction\", \"data\": {\"outcomeType\": 1, \"valueTowardsCompletion\": 0.25, \"interactionType\": 1, \"questionType\": 2, \"questionId\": \"2_SelectPredictionData\", \"learnToolsVersion\": \"0.3.4\", \"failureMessage\": \"\", \"exceptionClass\": \"\", \"trace\": \"\"}}, \"*\")"
      ],
      "text/plain": [
       "<IPython.core.display.Javascript object>"
      ]
     },
     "metadata": {},
     "output_type": "display_data"
    },
    {
     "data": {
      "text/markdown": [
       "<span style=\"color:#33cc33\">Correct</span>"
      ],
      "text/plain": [
       "Correct"
      ]
     },
     "metadata": {},
     "output_type": "display_data"
    }
   ],
   "source": [
    "# Create the list of features below\n",
    "feature_names = ['LotArea', 'YearBuilt', '1stFlrSF', '2ndFlrSF', 'FullBath', 'BedroomAbvGr', 'TotRmsAbvGrd']\n",
    "\n",
    "# Select data corresponding to features in feature_names\n",
    "X = home_data[feature_names]\n",
    "\n",
    "# Check your answer\n",
    "step_2.check()"
   ]
  },
  {
   "cell_type": "code",
   "execution_count": 6,
   "id": "958ed036",
   "metadata": {
    "collapsed": true,
    "execution": {
     "iopub.execute_input": "2024-11-02T04:23:45.449173Z",
     "iopub.status.busy": "2024-11-02T04:23:45.448363Z",
     "iopub.status.idle": "2024-11-02T04:23:45.452652Z",
     "shell.execute_reply": "2024-11-02T04:23:45.451685Z"
    },
    "jupyter": {
     "outputs_hidden": true
    },
    "papermill": {
     "duration": 0.013369,
     "end_time": "2024-11-02T04:23:45.454848",
     "exception": false,
     "start_time": "2024-11-02T04:23:45.441479",
     "status": "completed"
    },
    "tags": []
   },
   "outputs": [],
   "source": [
    "# step_2.hint()\n",
    "# step_2.solution()"
   ]
  },
  {
   "cell_type": "markdown",
   "id": "a4b79688",
   "metadata": {
    "papermill": {
     "duration": 0.005598,
     "end_time": "2024-11-02T04:23:45.466226",
     "exception": false,
     "start_time": "2024-11-02T04:23:45.460628",
     "status": "completed"
    },
    "tags": []
   },
   "source": [
    "## Review Data\n",
    "Before building a model, take a quick look at **X** to verify it looks sensible"
   ]
  },
  {
   "cell_type": "code",
   "execution_count": 7,
   "id": "4af81fc3",
   "metadata": {
    "execution": {
     "iopub.execute_input": "2024-11-02T04:23:45.479487Z",
     "iopub.status.busy": "2024-11-02T04:23:45.478712Z",
     "iopub.status.idle": "2024-11-02T04:23:45.512539Z",
     "shell.execute_reply": "2024-11-02T04:23:45.511381Z"
    },
    "papermill": {
     "duration": 0.043157,
     "end_time": "2024-11-02T04:23:45.515018",
     "exception": false,
     "start_time": "2024-11-02T04:23:45.471861",
     "status": "completed"
    },
    "tags": []
   },
   "outputs": [
    {
     "name": "stdout",
     "output_type": "stream",
     "text": [
      "             LotArea    YearBuilt     1stFlrSF     2ndFlrSF     FullBath  \\\n",
      "count    1460.000000  1460.000000  1460.000000  1460.000000  1460.000000   \n",
      "mean    10516.828082  1971.267808  1162.626712   346.992466     1.565068   \n",
      "std      9981.264932    30.202904   386.587738   436.528436     0.550916   \n",
      "min      1300.000000  1872.000000   334.000000     0.000000     0.000000   \n",
      "25%      7553.500000  1954.000000   882.000000     0.000000     1.000000   \n",
      "50%      9478.500000  1973.000000  1087.000000     0.000000     2.000000   \n",
      "75%     11601.500000  2000.000000  1391.250000   728.000000     2.000000   \n",
      "max    215245.000000  2010.000000  4692.000000  2065.000000     3.000000   \n",
      "\n",
      "       BedroomAbvGr  TotRmsAbvGrd  \n",
      "count   1460.000000   1460.000000  \n",
      "mean       2.866438      6.517808  \n",
      "std        0.815778      1.625393  \n",
      "min        0.000000      2.000000  \n",
      "25%        2.000000      5.000000  \n",
      "50%        3.000000      6.000000  \n",
      "75%        3.000000      7.000000  \n",
      "max        8.000000     14.000000  \n",
      "   LotArea  YearBuilt  1stFlrSF  2ndFlrSF  FullBath  BedroomAbvGr  \\\n",
      "0     8450       2003       856       854         2             3   \n",
      "1     9600       1976      1262         0         2             3   \n",
      "2    11250       2001       920       866         2             3   \n",
      "3     9550       1915       961       756         1             3   \n",
      "4    14260       2000      1145      1053         2             4   \n",
      "\n",
      "   TotRmsAbvGrd  \n",
      "0             8  \n",
      "1             6  \n",
      "2             6  \n",
      "3             7  \n",
      "4             9  \n"
     ]
    }
   ],
   "source": [
    "# Review data\n",
    "# print description or statistics from X\n",
    "print(X.describe())\n",
    "\n",
    "# print the top few lines\n",
    "print(X.head())"
   ]
  },
  {
   "cell_type": "markdown",
   "id": "92aac988",
   "metadata": {
    "papermill": {
     "duration": 0.005419,
     "end_time": "2024-11-02T04:23:45.526194",
     "exception": false,
     "start_time": "2024-11-02T04:23:45.520775",
     "status": "completed"
    },
    "tags": []
   },
   "source": [
    "## Step 3: Specify and Fit Model\n",
    "Create a `DecisionTreeRegressor` and save it iowa_model. Ensure you've done the relevant import from sklearn to run this command.\n",
    "\n",
    "Then fit the model you just created using the data in `X` and `y` that you saved above."
   ]
  },
  {
   "cell_type": "code",
   "execution_count": 8,
   "id": "d3f6e1f9",
   "metadata": {
    "execution": {
     "iopub.execute_input": "2024-11-02T04:23:45.539205Z",
     "iopub.status.busy": "2024-11-02T04:23:45.538840Z",
     "iopub.status.idle": "2024-11-02T04:23:45.559890Z",
     "shell.execute_reply": "2024-11-02T04:23:45.558805Z"
    },
    "papermill": {
     "duration": 0.03005,
     "end_time": "2024-11-02T04:23:45.561993",
     "exception": false,
     "start_time": "2024-11-02T04:23:45.531943",
     "status": "completed"
    },
    "tags": []
   },
   "outputs": [
    {
     "data": {
      "application/javascript": [
       "parent.postMessage({\"jupyterEvent\": \"custom.exercise_interaction\", \"data\": {\"outcomeType\": 1, \"valueTowardsCompletion\": 0.25, \"interactionType\": 1, \"questionType\": 2, \"questionId\": \"3_CreateModel\", \"learnToolsVersion\": \"0.3.4\", \"failureMessage\": \"\", \"exceptionClass\": \"\", \"trace\": \"\"}}, \"*\")"
      ],
      "text/plain": [
       "<IPython.core.display.Javascript object>"
      ]
     },
     "metadata": {},
     "output_type": "display_data"
    },
    {
     "data": {
      "text/markdown": [
       "<span style=\"color:#33cc33\">Correct</span>"
      ],
      "text/plain": [
       "Correct"
      ]
     },
     "metadata": {},
     "output_type": "display_data"
    }
   ],
   "source": [
    " from sklearn.tree import DecisionTreeRegressor\n",
    "#specify the model. \n",
    "#For model reproducibility, set a numeric value for random_state when specifying the model\n",
    "iowa_model = DecisionTreeRegressor(random_state = 0)\n",
    "\n",
    "# Fit the model\n",
    "iowa_model.fit(X, y)\n",
    "\n",
    "# Check your answer\n",
    "step_3.check()"
   ]
  },
  {
   "cell_type": "code",
   "execution_count": 9,
   "id": "3743fc65",
   "metadata": {
    "collapsed": true,
    "execution": {
     "iopub.execute_input": "2024-11-02T04:23:45.575689Z",
     "iopub.status.busy": "2024-11-02T04:23:45.575242Z",
     "iopub.status.idle": "2024-11-02T04:23:45.579853Z",
     "shell.execute_reply": "2024-11-02T04:23:45.578743Z"
    },
    "jupyter": {
     "outputs_hidden": true
    },
    "papermill": {
     "duration": 0.01406,
     "end_time": "2024-11-02T04:23:45.581999",
     "exception": false,
     "start_time": "2024-11-02T04:23:45.567939",
     "status": "completed"
    },
    "tags": []
   },
   "outputs": [],
   "source": [
    "# step_3.hint()\n",
    "# step_3.solution()"
   ]
  },
  {
   "cell_type": "markdown",
   "id": "1e91cfdf",
   "metadata": {
    "papermill": {
     "duration": 0.005983,
     "end_time": "2024-11-02T04:23:45.594209",
     "exception": false,
     "start_time": "2024-11-02T04:23:45.588226",
     "status": "completed"
    },
    "tags": []
   },
   "source": [
    "## Step 4: Make Predictions\n",
    "Make predictions with the model's `predict` command using `X` as the data. Save the results to a variable called `predictions`."
   ]
  },
  {
   "cell_type": "code",
   "execution_count": 10,
   "id": "6f3ab5ef",
   "metadata": {
    "execution": {
     "iopub.execute_input": "2024-11-02T04:23:45.608151Z",
     "iopub.status.busy": "2024-11-02T04:23:45.607374Z",
     "iopub.status.idle": "2024-11-02T04:23:45.620230Z",
     "shell.execute_reply": "2024-11-02T04:23:45.619250Z"
    },
    "papermill": {
     "duration": 0.022211,
     "end_time": "2024-11-02T04:23:45.622399",
     "exception": false,
     "start_time": "2024-11-02T04:23:45.600188",
     "status": "completed"
    },
    "tags": []
   },
   "outputs": [
    {
     "name": "stdout",
     "output_type": "stream",
     "text": [
      "[208500. 181500. 223500. ... 266500. 142125. 147500.]\n"
     ]
    },
    {
     "data": {
      "application/javascript": [
       "parent.postMessage({\"jupyterEvent\": \"custom.exercise_interaction\", \"data\": {\"outcomeType\": 1, \"valueTowardsCompletion\": 0.25, \"interactionType\": 1, \"questionType\": 2, \"questionId\": \"4_MakePredictions\", \"learnToolsVersion\": \"0.3.4\", \"failureMessage\": \"\", \"exceptionClass\": \"\", \"trace\": \"\"}}, \"*\")"
      ],
      "text/plain": [
       "<IPython.core.display.Javascript object>"
      ]
     },
     "metadata": {},
     "output_type": "display_data"
    },
    {
     "data": {
      "text/markdown": [
       "<span style=\"color:#33cc33\">Correct</span>"
      ],
      "text/plain": [
       "Correct"
      ]
     },
     "metadata": {},
     "output_type": "display_data"
    }
   ],
   "source": [
    "predictions = iowa_model.predict(X)\n",
    "print(predictions)\n",
    "\n",
    "# Check your answer\n",
    "step_4.check()"
   ]
  },
  {
   "cell_type": "code",
   "execution_count": 11,
   "id": "0e214c3e",
   "metadata": {
    "execution": {
     "iopub.execute_input": "2024-11-02T04:23:45.637279Z",
     "iopub.status.busy": "2024-11-02T04:23:45.636340Z",
     "iopub.status.idle": "2024-11-02T04:23:45.640953Z",
     "shell.execute_reply": "2024-11-02T04:23:45.640054Z"
    },
    "papermill": {
     "duration": 0.014159,
     "end_time": "2024-11-02T04:23:45.642917",
     "exception": false,
     "start_time": "2024-11-02T04:23:45.628758",
     "status": "completed"
    },
    "tags": []
   },
   "outputs": [],
   "source": [
    "# step_4.hint()\n",
    "# step_4.solution()"
   ]
  },
  {
   "cell_type": "markdown",
   "id": "ad9cb775",
   "metadata": {
    "papermill": {
     "duration": 0.005983,
     "end_time": "2024-11-02T04:23:45.655438",
     "exception": false,
     "start_time": "2024-11-02T04:23:45.649455",
     "status": "completed"
    },
    "tags": []
   },
   "source": [
    "## Think About Your Results\n",
    "\n",
    "Use the `head` method to compare the top few predictions to the actual home values (in `y`) for those same homes. Anything surprising?\n"
   ]
  },
  {
   "cell_type": "code",
   "execution_count": 12,
   "id": "fba90cfe",
   "metadata": {
    "execution": {
     "iopub.execute_input": "2024-11-02T04:23:45.669608Z",
     "iopub.status.busy": "2024-11-02T04:23:45.669207Z",
     "iopub.status.idle": "2024-11-02T04:23:45.676486Z",
     "shell.execute_reply": "2024-11-02T04:23:45.675468Z"
    },
    "papermill": {
     "duration": 0.01693,
     "end_time": "2024-11-02T04:23:45.678529",
     "exception": false,
     "start_time": "2024-11-02T04:23:45.661599",
     "status": "completed"
    },
    "tags": []
   },
   "outputs": [
    {
     "name": "stdout",
     "output_type": "stream",
     "text": [
      "[208500. 181500. 223500. 140000. 250000.]\n"
     ]
    }
   ],
   "source": [
    "# You can write code in this cell\n",
    "print(iowa_model.predict(X.head()))\n"
   ]
  },
  {
   "cell_type": "markdown",
   "id": "d6a877f4",
   "metadata": {
    "papermill": {
     "duration": 0.006242,
     "end_time": "2024-11-02T04:23:45.691170",
     "exception": false,
     "start_time": "2024-11-02T04:23:45.684928",
     "status": "completed"
    },
    "tags": []
   },
   "source": [
    "It's natural to ask how accurate the model's predictions will be and how you can improve that. That will be you're next step.\n",
    "\n",
    "# Keep Going\n",
    "\n",
    "You are ready for **[Model Validation](https://www.kaggle.com/dansbecker/model-validation).**\n"
   ]
  },
  {
   "cell_type": "markdown",
   "id": "37190e59",
   "metadata": {
    "papermill": {
     "duration": 0.006952,
     "end_time": "2024-11-02T04:23:45.704399",
     "exception": false,
     "start_time": "2024-11-02T04:23:45.697447",
     "status": "completed"
    },
    "tags": []
   },
   "source": [
    "---\n",
    "\n",
    "\n",
    "\n",
    "\n",
    "*Have questions or comments? Visit the [course discussion forum](https://www.kaggle.com/learn/intro-to-machine-learning/discussion) to chat with other learners.*"
   ]
  }
 ],
 "metadata": {
  "kaggle": {
   "accelerator": "none",
   "dataSources": [
    {
     "databundleVersionId": 111096,
     "sourceId": 10211,
     "sourceType": "competition"
    },
    {
     "datasetId": 11167,
     "sourceId": 15520,
     "sourceType": "datasetVersion"
    },
    {
     "datasetId": 2709,
     "sourceId": 38454,
     "sourceType": "datasetVersion"
    }
   ],
   "isGpuEnabled": false,
   "isInternetEnabled": false,
   "language": "python",
   "sourceType": "notebook"
  },
  "kernelspec": {
   "display_name": "Python 3",
   "language": "python",
   "name": "python3"
  },
  "language_info": {
   "codemirror_mode": {
    "name": "ipython",
    "version": 3
   },
   "file_extension": ".py",
   "mimetype": "text/x-python",
   "name": "python",
   "nbconvert_exporter": "python",
   "pygments_lexer": "ipython3",
   "version": "3.10.14"
  },
  "papermill": {
   "default_parameters": {},
   "duration": 6.976607,
   "end_time": "2024-11-02T04:23:46.331843",
   "environment_variables": {},
   "exception": null,
   "input_path": "__notebook__.ipynb",
   "output_path": "__notebook__.ipynb",
   "parameters": {},
   "start_time": "2024-11-02T04:23:39.355236",
   "version": "2.6.0"
  }
 },
 "nbformat": 4,
 "nbformat_minor": 5
}
