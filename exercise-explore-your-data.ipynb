{
 "cells": [
  {
   "cell_type": "markdown",
   "id": "f87ce7a4",
   "metadata": {
    "papermill": {
     "duration": 0.005353,
     "end_time": "2024-11-02T03:50:44.396385",
     "exception": false,
     "start_time": "2024-11-02T03:50:44.391032",
     "status": "completed"
    },
    "tags": []
   },
   "source": [
    "**[Machine Learning Course Home Page](https://www.kaggle.com/learn/machine-learning)**\n",
    "\n",
    "---\n"
   ]
  },
  {
   "cell_type": "markdown",
   "id": "28e81759",
   "metadata": {
    "papermill": {
     "duration": 0.004275,
     "end_time": "2024-11-02T03:50:44.405544",
     "exception": false,
     "start_time": "2024-11-02T03:50:44.401269",
     "status": "completed"
    },
    "tags": []
   },
   "source": [
    "This exercise will test your ability to read a data file and understand statistics about the data.\n",
    "\n",
    "In later exercises, you will apply techniques to filter the data, build a machine learning model, and iteratively improve your model.\n",
    "\n",
    "The course examples use data from Melbourne. To ensure you can apply these techniques on your own, you will have to apply them to a new dataset (with house prices from Iowa).\n",
    "\n",
    "The exercises use a \"notebook\" coding environment.  In case you are unfamiliar with notebooks, we have a [90-second intro video](https://www.youtube.com/watch?v=4C2qMnaIKL4).\n",
    "\n",
    "# Exercises\n",
    "\n",
    "Run the following cell to set up code-checking, which will verify your work as you go."
   ]
  },
  {
   "cell_type": "code",
   "execution_count": 1,
   "id": "6be68446",
   "metadata": {
    "execution": {
     "iopub.execute_input": "2024-11-02T03:50:44.416726Z",
     "iopub.status.busy": "2024-11-02T03:50:44.416173Z",
     "iopub.status.idle": "2024-11-02T03:50:45.458940Z",
     "shell.execute_reply": "2024-11-02T03:50:45.456979Z"
    },
    "papermill": {
     "duration": 1.052354,
     "end_time": "2024-11-02T03:50:45.462353",
     "exception": false,
     "start_time": "2024-11-02T03:50:44.409999",
     "status": "completed"
    },
    "tags": []
   },
   "outputs": [
    {
     "name": "stdout",
     "output_type": "stream",
     "text": [
      "Setup Complete\n"
     ]
    }
   ],
   "source": [
    "# Set up code checking\n",
    "from learntools.core import binder\n",
    "binder.bind(globals())\n",
    "from learntools.machine_learning.ex2 import *\n",
    "print(\"Setup Complete\")"
   ]
  },
  {
   "cell_type": "markdown",
   "id": "d4a28130",
   "metadata": {
    "papermill": {
     "duration": 0.004581,
     "end_time": "2024-11-02T03:50:45.472115",
     "exception": false,
     "start_time": "2024-11-02T03:50:45.467534",
     "status": "completed"
    },
    "tags": []
   },
   "source": [
    "## Step 1: Loading Data\n",
    "Read the Iowa data file into a Pandas DataFrame called `home_data`."
   ]
  },
  {
   "cell_type": "code",
   "execution_count": 2,
   "id": "74e95856",
   "metadata": {
    "execution": {
     "iopub.execute_input": "2024-11-02T03:50:45.483974Z",
     "iopub.status.busy": "2024-11-02T03:50:45.483269Z",
     "iopub.status.idle": "2024-11-02T03:50:45.549236Z",
     "shell.execute_reply": "2024-11-02T03:50:45.547924Z"
    },
    "papermill": {
     "duration": 0.074998,
     "end_time": "2024-11-02T03:50:45.551861",
     "exception": false,
     "start_time": "2024-11-02T03:50:45.476863",
     "status": "completed"
    },
    "tags": []
   },
   "outputs": [
    {
     "data": {
      "application/javascript": [
       "parent.postMessage({\"jupyterEvent\": \"custom.exercise_interaction\", \"data\": {\"outcomeType\": 1, \"valueTowardsCompletion\": 0.5, \"interactionType\": 1, \"questionType\": 1, \"questionId\": \"1_LoadHomeData\", \"learnToolsVersion\": \"0.3.4\", \"failureMessage\": \"\", \"exceptionClass\": \"\", \"trace\": \"\"}}, \"*\")"
      ],
      "text/plain": [
       "<IPython.core.display.Javascript object>"
      ]
     },
     "metadata": {},
     "output_type": "display_data"
    },
    {
     "data": {
      "text/markdown": [
       "<span style=\"color:#33cc33\">Correct</span>"
      ],
      "text/plain": [
       "Correct"
      ]
     },
     "metadata": {},
     "output_type": "display_data"
    }
   ],
   "source": [
    "import pandas as pd\n",
    "\n",
    "# Path of the file to read\n",
    "iowa_file_path = '../input/home-data-for-ml-course/train.csv'\n",
    "\n",
    "# Fill in the line below to read the file into a variable home_data\n",
    "home_data = pd.read_csv(iowa_file_path)\n",
    "\n",
    "# Call line below with no argument to check that you've loaded the data correctly\n",
    "step_1.check()"
   ]
  },
  {
   "cell_type": "code",
   "execution_count": 3,
   "id": "3d2f156f",
   "metadata": {
    "execution": {
     "iopub.execute_input": "2024-11-02T03:50:45.564449Z",
     "iopub.status.busy": "2024-11-02T03:50:45.563966Z",
     "iopub.status.idle": "2024-11-02T03:50:45.570056Z",
     "shell.execute_reply": "2024-11-02T03:50:45.568777Z"
    },
    "papermill": {
     "duration": 0.015597,
     "end_time": "2024-11-02T03:50:45.572669",
     "exception": false,
     "start_time": "2024-11-02T03:50:45.557072",
     "status": "completed"
    },
    "tags": []
   },
   "outputs": [],
   "source": [
    "# Lines below will give you a hint or solution code\n",
    "#step_1.hint()\n",
    "#step_1.solution()"
   ]
  },
  {
   "cell_type": "markdown",
   "id": "1d3a3832",
   "metadata": {
    "papermill": {
     "duration": 0.004934,
     "end_time": "2024-11-02T03:50:45.583016",
     "exception": false,
     "start_time": "2024-11-02T03:50:45.578082",
     "status": "completed"
    },
    "tags": []
   },
   "source": [
    "## Step 2: Review The Data\n",
    "Use the command you learned to view summary statistics of the data. Then fill in variables to answer the following questions"
   ]
  },
  {
   "cell_type": "code",
   "execution_count": 4,
   "id": "dc7067a0",
   "metadata": {
    "execution": {
     "iopub.execute_input": "2024-11-02T03:50:45.595612Z",
     "iopub.status.busy": "2024-11-02T03:50:45.595058Z",
     "iopub.status.idle": "2024-11-02T03:50:45.699419Z",
     "shell.execute_reply": "2024-11-02T03:50:45.698089Z"
    },
    "papermill": {
     "duration": 0.114435,
     "end_time": "2024-11-02T03:50:45.702472",
     "exception": false,
     "start_time": "2024-11-02T03:50:45.588037",
     "status": "completed"
    },
    "tags": []
   },
   "outputs": [
    {
     "name": "stdout",
     "output_type": "stream",
     "text": [
      "                Id   MSSubClass  LotFrontage        LotArea  OverallQual  \\\n",
      "count  1460.000000  1460.000000  1201.000000    1460.000000  1460.000000   \n",
      "mean    730.500000    56.897260    70.049958   10516.828082     6.099315   \n",
      "std     421.610009    42.300571    24.284752    9981.264932     1.382997   \n",
      "min       1.000000    20.000000    21.000000    1300.000000     1.000000   \n",
      "25%     365.750000    20.000000    59.000000    7553.500000     5.000000   \n",
      "50%     730.500000    50.000000    69.000000    9478.500000     6.000000   \n",
      "75%    1095.250000    70.000000    80.000000   11601.500000     7.000000   \n",
      "max    1460.000000   190.000000   313.000000  215245.000000    10.000000   \n",
      "\n",
      "       OverallCond    YearBuilt  YearRemodAdd   MasVnrArea   BsmtFinSF1  ...  \\\n",
      "count  1460.000000  1460.000000   1460.000000  1452.000000  1460.000000  ...   \n",
      "mean      5.575342  1971.267808   1984.865753   103.685262   443.639726  ...   \n",
      "std       1.112799    30.202904     20.645407   181.066207   456.098091  ...   \n",
      "min       1.000000  1872.000000   1950.000000     0.000000     0.000000  ...   \n",
      "25%       5.000000  1954.000000   1967.000000     0.000000     0.000000  ...   \n",
      "50%       5.000000  1973.000000   1994.000000     0.000000   383.500000  ...   \n",
      "75%       6.000000  2000.000000   2004.000000   166.000000   712.250000  ...   \n",
      "max       9.000000  2010.000000   2010.000000  1600.000000  5644.000000  ...   \n",
      "\n",
      "        WoodDeckSF  OpenPorchSF  EnclosedPorch    3SsnPorch  ScreenPorch  \\\n",
      "count  1460.000000  1460.000000    1460.000000  1460.000000  1460.000000   \n",
      "mean     94.244521    46.660274      21.954110     3.409589    15.060959   \n",
      "std     125.338794    66.256028      61.119149    29.317331    55.757415   \n",
      "min       0.000000     0.000000       0.000000     0.000000     0.000000   \n",
      "25%       0.000000     0.000000       0.000000     0.000000     0.000000   \n",
      "50%       0.000000    25.000000       0.000000     0.000000     0.000000   \n",
      "75%     168.000000    68.000000       0.000000     0.000000     0.000000   \n",
      "max     857.000000   547.000000     552.000000   508.000000   480.000000   \n",
      "\n",
      "          PoolArea       MiscVal       MoSold       YrSold      SalePrice  \n",
      "count  1460.000000   1460.000000  1460.000000  1460.000000    1460.000000  \n",
      "mean      2.758904     43.489041     6.321918  2007.815753  180921.195890  \n",
      "std      40.177307    496.123024     2.703626     1.328095   79442.502883  \n",
      "min       0.000000      0.000000     1.000000  2006.000000   34900.000000  \n",
      "25%       0.000000      0.000000     5.000000  2007.000000  129975.000000  \n",
      "50%       0.000000      0.000000     6.000000  2008.000000  163000.000000  \n",
      "75%       0.000000      0.000000     8.000000  2009.000000  214000.000000  \n",
      "max     738.000000  15500.000000    12.000000  2010.000000  755000.000000  \n",
      "\n",
      "[8 rows x 38 columns]\n"
     ]
    }
   ],
   "source": [
    "# Print summary statistics in next line\n",
    "print(home_data.describe())"
   ]
  },
  {
   "cell_type": "code",
   "execution_count": 5,
   "id": "4f0e1866",
   "metadata": {
    "execution": {
     "iopub.execute_input": "2024-11-02T03:50:45.716247Z",
     "iopub.status.busy": "2024-11-02T03:50:45.714736Z",
     "iopub.status.idle": "2024-11-02T03:50:45.727068Z",
     "shell.execute_reply": "2024-11-02T03:50:45.725632Z"
    },
    "papermill": {
     "duration": 0.022024,
     "end_time": "2024-11-02T03:50:45.729904",
     "exception": false,
     "start_time": "2024-11-02T03:50:45.707880",
     "status": "completed"
    },
    "tags": []
   },
   "outputs": [
    {
     "data": {
      "application/javascript": [
       "parent.postMessage({\"jupyterEvent\": \"custom.exercise_interaction\", \"data\": {\"outcomeType\": 1, \"valueTowardsCompletion\": 0.5, \"interactionType\": 1, \"questionType\": 1, \"questionId\": \"2_HomeDescription\", \"learnToolsVersion\": \"0.3.4\", \"failureMessage\": \"\", \"exceptionClass\": \"\", \"trace\": \"\"}}, \"*\")"
      ],
      "text/plain": [
       "<IPython.core.display.Javascript object>"
      ]
     },
     "metadata": {},
     "output_type": "display_data"
    },
    {
     "data": {
      "text/markdown": [
       "<span style=\"color:#33cc33\">Correct</span>"
      ],
      "text/plain": [
       "Correct"
      ]
     },
     "metadata": {},
     "output_type": "display_data"
    }
   ],
   "source": [
    "# What is the average lot size (rounded to nearest integer)?\n",
    "avg_lot_size = 10517\n",
    "\n",
    "# As of today, how old is the newest home (current year - the date in which it was built)\n",
    "newest_home_age = 14\n",
    "\n",
    "# Checks your answers\n",
    "step_2.check()"
   ]
  },
  {
   "cell_type": "code",
   "execution_count": 6,
   "id": "6898b55a",
   "metadata": {
    "execution": {
     "iopub.execute_input": "2024-11-02T03:50:45.743820Z",
     "iopub.status.busy": "2024-11-02T03:50:45.742440Z",
     "iopub.status.idle": "2024-11-02T03:50:45.748286Z",
     "shell.execute_reply": "2024-11-02T03:50:45.746909Z"
    },
    "papermill": {
     "duration": 0.015799,
     "end_time": "2024-11-02T03:50:45.751190",
     "exception": false,
     "start_time": "2024-11-02T03:50:45.735391",
     "status": "completed"
    },
    "tags": []
   },
   "outputs": [],
   "source": [
    "#step_2.hint()\n",
    "#step_2.solution()"
   ]
  },
  {
   "cell_type": "markdown",
   "id": "73a9f2ce",
   "metadata": {
    "papermill": {
     "duration": 0.006683,
     "end_time": "2024-11-02T03:50:45.763699",
     "exception": false,
     "start_time": "2024-11-02T03:50:45.757016",
     "status": "completed"
    },
    "tags": []
   },
   "source": [
    "## Think About Your Data\n",
    "\n",
    "The newest house in your data isn't that new.  A few potential explanations for this:\n",
    "1. They haven't built new houses where this data was collected.\n",
    "1. The data was collected a long time ago. Houses built after the data publication wouldn't show up.\n",
    "\n",
    "If the reason is explanation #1 above, does that affect your trust in the model you build with this data? What about if it is reason #2?\n",
    "\n",
    "How could you dig into the data to see which explanation is more plausible?\n",
    "\n",
    "Check out this **[discussion thread](https://www.kaggle.com/learn-forum/60581)** to see what others think or to add your ideas.\n",
    "\n",
    "# Keep Going\n",
    "\n",
    "You are ready for **[Your First Machine Learning Model](https://www.kaggle.com/dansbecker/your-first-machine-learning-model).**\n"
   ]
  },
  {
   "cell_type": "markdown",
   "id": "f7fe0f0f",
   "metadata": {
    "papermill": {
     "duration": 0.005247,
     "end_time": "2024-11-02T03:50:45.774509",
     "exception": false,
     "start_time": "2024-11-02T03:50:45.769262",
     "status": "completed"
    },
    "tags": []
   },
   "source": [
    "---\n",
    "**[Machine Learning Course Home Page](https://www.kaggle.com/learn/machine-learning)**\n",
    "\n"
   ]
  }
 ],
 "metadata": {
  "kaggle": {
   "accelerator": "none",
   "dataSources": [
    {
     "datasetId": 2709,
     "sourceId": 38454,
     "sourceType": "datasetVersion"
    },
    {
     "datasetId": 108980,
     "sourceId": 260251,
     "sourceType": "datasetVersion"
    }
   ],
   "isGpuEnabled": false,
   "isInternetEnabled": false,
   "language": "python",
   "sourceType": "notebook"
  },
  "kernelspec": {
   "display_name": "Python 3",
   "language": "python",
   "name": "python3"
  },
  "language_info": {
   "codemirror_mode": {
    "name": "ipython",
    "version": 3
   },
   "file_extension": ".py",
   "mimetype": "text/x-python",
   "name": "python",
   "nbconvert_exporter": "python",
   "pygments_lexer": "ipython3",
   "version": "3.10.14"
  },
  "papermill": {
   "default_parameters": {},
   "duration": 5.763727,
   "end_time": "2024-11-02T03:50:46.304570",
   "environment_variables": {},
   "exception": null,
   "input_path": "__notebook__.ipynb",
   "output_path": "__notebook__.ipynb",
   "parameters": {},
   "start_time": "2024-11-02T03:50:40.540843",
   "version": "2.6.0"
  }
 },
 "nbformat": 4,
 "nbformat_minor": 5
}
